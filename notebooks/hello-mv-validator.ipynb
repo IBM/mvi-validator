{
 "cells": [
  {
   "cell_type": "markdown",
   "id": "08f0fa3e",
   "metadata": {},
   "source": [
    "# Hello MVI Validator"
   ]
  },
  {
   "cell_type": "markdown",
   "id": "0feb9f26",
   "metadata": {},
   "source": [
    "## The most outer interface \"command\" (command option -> stdout)"
   ]
  },
  {
   "cell_type": "code",
   "execution_count": 35,
   "id": "03f3385a",
   "metadata": {},
   "outputs": [
    {
     "name": "stdout",
     "output_type": "stream",
     "text": [
      "\r\n",
      "# Summary\r\n",
      "|   num_gt |   num_pd |   tp |   fp |   fn |   precision |   recall |   fmeasure |       AP |      mAP |\r\n",
      "|---------:|---------:|-----:|-----:|-----:|------------:|---------:|-----------:|---------:|---------:|\r\n",
      "|       27 |        9 |    8 |    1 |   19 |    0.888889 | 0.296296 |   0.444444 | 0.917695 | 0.903846 |\r\n",
      "\r\n",
      "# Summary of each labels\r\n",
      "|   num_gt |   num_pd |   tp |   fp |   fn |   precision |   recall |   fmeasure |       AP | label                  |\r\n",
      "|---------:|---------:|-----:|-----:|-----:|------------:|---------:|-----------:|---------:|:-----------------------|\r\n",
      "|       14 |        5 |    5 |    0 |    9 |        1    | 0.357143 |   0.526316 | 1        | ball_bearing           |\r\n",
      "|       13 |        4 |    3 |    1 |   10 |        0.75 | 0.230769 |   0.352941 | 0.807692 | ball_bearing_oil_stain |\r\n"
     ]
    }
   ],
   "source": [
    "!mvi-validator deployed-model detection \\\n",
    "    --api \"https://mvi.ibm.com/api/dlapis/bb44e214-e208-4e6a-a88b-d9ab173023da\"\\\n",
    "    \"../test_data/test_ball_bearing_normal_and_stain\""
   ]
  },
  {
   "cell_type": "markdown",
   "id": "5241f268",
   "metadata": {},
   "source": [
    "## The second outer interface \"function\" (string -> text io)\n"
   ]
  },
  {
   "cell_type": "code",
   "execution_count": 36,
   "id": "1b57d66d",
   "metadata": {},
   "outputs": [
    {
     "name": "stdout",
     "output_type": "stream",
     "text": [
      "\n",
      "# Summary\n",
      "|   num_gt |   num_pd |   tp |   fp |   fn |   precision |   recall |   fmeasure |       AP |      mAP |\n",
      "|---------:|---------:|-----:|-----:|-----:|------------:|---------:|-----------:|---------:|---------:|\n",
      "|       27 |        9 |    8 |    1 |   19 |    0.888889 | 0.296296 |   0.444444 | 0.917695 | 0.903846 |\n",
      "\n",
      "# Summary of each labels\n",
      "|   num_gt |   num_pd |   tp |   fp |   fn |   precision |   recall |   fmeasure |       AP | label                  |\n",
      "|---------:|---------:|-----:|-----:|-----:|------------:|---------:|-----------:|---------:|:-----------------------|\n",
      "|       14 |        5 |    5 |    0 |    9 |        1    | 0.357143 |   0.526316 | 1        | ball_bearing           |\n",
      "|       13 |        4 |    3 |    1 |   10 |        0.75 | 0.230769 |   0.352941 | 0.807692 | ball_bearing_oil_stain |\n",
      "\n"
     ]
    }
   ],
   "source": [
    "import mvi_validator\n",
    "\n",
    "import io\n",
    "sio: io.StringIO = io.StringIO()\n",
    "\n",
    "mvi_validator.cli_main__deployed_model__object_detection__measure_accuracy(\n",
    "    dataset_dir=\"../test_data/test_ball_bearing_normal_and_stain\",\n",
    "    api_url=\"https://mvi.ibm.com/api/dlapis/bb44e214-e208-4e6a-a88b-d9ab173023da\",\n",
    "    output_tio=sio\n",
    ")\n",
    "\n",
    "s: str = sio.getvalue()\n",
    "print(s)"
   ]
  },
  {
   "cell_type": "markdown",
   "id": "88e31ffb",
   "metadata": {},
   "source": [
    "## The third outer interface \"function\" ( string -> pandas.dataframe)"
   ]
  },
  {
   "cell_type": "code",
   "execution_count": 37,
   "id": "fc9e0be2",
   "metadata": {},
   "outputs": [],
   "source": [
    "import mvi_validator\n",
    "\n",
    "summary_df, label2summary_df, gt_bboxes_df, pd_bboxes_df = \\\n",
    "    mvi_validator.main__deployed_model__object_detection__measure_accuracy(\n",
    "        dataset_dir=\"../test_data/test_ball_bearing_normal_and_stain\",\n",
    "        api_url=\"https://mvi.ibm.com/api/dlapis/bb44e214-e208-4e6a-a88b-d9ab173023da\",    \n",
    "    )\n"
   ]
  },
  {
   "cell_type": "code",
   "execution_count": 38,
   "id": "8859a1b7",
   "metadata": {},
   "outputs": [
    {
     "data": {
      "text/html": [
       "<div>\n",
       "<style scoped>\n",
       "    .dataframe tbody tr th:only-of-type {\n",
       "        vertical-align: middle;\n",
       "    }\n",
       "\n",
       "    .dataframe tbody tr th {\n",
       "        vertical-align: top;\n",
       "    }\n",
       "\n",
       "    .dataframe thead th {\n",
       "        text-align: right;\n",
       "    }\n",
       "</style>\n",
       "<table border=\"1\" class=\"dataframe\">\n",
       "  <thead>\n",
       "    <tr style=\"text-align: right;\">\n",
       "      <th></th>\n",
       "      <th>num_gt</th>\n",
       "      <th>num_pd</th>\n",
       "      <th>tp</th>\n",
       "      <th>fp</th>\n",
       "      <th>fn</th>\n",
       "      <th>precision</th>\n",
       "      <th>recall</th>\n",
       "      <th>fmeasure</th>\n",
       "      <th>AP</th>\n",
       "      <th>mAP</th>\n",
       "    </tr>\n",
       "  </thead>\n",
       "  <tbody>\n",
       "    <tr>\n",
       "      <th>0</th>\n",
       "      <td>27</td>\n",
       "      <td>9</td>\n",
       "      <td>8</td>\n",
       "      <td>1</td>\n",
       "      <td>19</td>\n",
       "      <td>0.888889</td>\n",
       "      <td>0.296296</td>\n",
       "      <td>0.444444</td>\n",
       "      <td>0.917695</td>\n",
       "      <td>0.903846</td>\n",
       "    </tr>\n",
       "  </tbody>\n",
       "</table>\n",
       "</div>"
      ],
      "text/plain": [
       "   num_gt  num_pd  tp  fp  fn  precision    recall  fmeasure        AP  \\\n",
       "0      27       9   8   1  19   0.888889  0.296296  0.444444  0.917695   \n",
       "\n",
       "        mAP  \n",
       "0  0.903846  "
      ]
     },
     "execution_count": 38,
     "metadata": {},
     "output_type": "execute_result"
    }
   ],
   "source": [
    "summary_df"
   ]
  },
  {
   "cell_type": "code",
   "execution_count": 39,
   "id": "96eb506e",
   "metadata": {},
   "outputs": [
    {
     "data": {
      "text/html": [
       "<div>\n",
       "<style scoped>\n",
       "    .dataframe tbody tr th:only-of-type {\n",
       "        vertical-align: middle;\n",
       "    }\n",
       "\n",
       "    .dataframe tbody tr th {\n",
       "        vertical-align: top;\n",
       "    }\n",
       "\n",
       "    .dataframe thead th {\n",
       "        text-align: right;\n",
       "    }\n",
       "</style>\n",
       "<table border=\"1\" class=\"dataframe\">\n",
       "  <thead>\n",
       "    <tr style=\"text-align: right;\">\n",
       "      <th></th>\n",
       "      <th>num_gt</th>\n",
       "      <th>num_pd</th>\n",
       "      <th>tp</th>\n",
       "      <th>fp</th>\n",
       "      <th>fn</th>\n",
       "      <th>precision</th>\n",
       "      <th>recall</th>\n",
       "      <th>fmeasure</th>\n",
       "      <th>AP</th>\n",
       "      <th>mAP</th>\n",
       "    </tr>\n",
       "  </thead>\n",
       "  <tbody>\n",
       "    <tr>\n",
       "      <th>0</th>\n",
       "      <td>27</td>\n",
       "      <td>9</td>\n",
       "      <td>8</td>\n",
       "      <td>1</td>\n",
       "      <td>19</td>\n",
       "      <td>0.888889</td>\n",
       "      <td>0.296296</td>\n",
       "      <td>0.444444</td>\n",
       "      <td>0.917695</td>\n",
       "      <td>0.903846</td>\n",
       "    </tr>\n",
       "  </tbody>\n",
       "</table>\n",
       "</div>"
      ],
      "text/plain": [
       "   num_gt  num_pd  tp  fp  fn  precision    recall  fmeasure        AP  \\\n",
       "0      27       9   8   1  19   0.888889  0.296296  0.444444  0.917695   \n",
       "\n",
       "        mAP  \n",
       "0  0.903846  "
      ]
     },
     "execution_count": 39,
     "metadata": {},
     "output_type": "execute_result"
    }
   ],
   "source": [
    "summary_df"
   ]
  },
  {
   "cell_type": "code",
   "execution_count": 40,
   "id": "7f2de3ed",
   "metadata": {
    "scrolled": true
   },
   "outputs": [
    {
     "data": {
      "text/html": [
       "<div>\n",
       "<style scoped>\n",
       "    .dataframe tbody tr th:only-of-type {\n",
       "        vertical-align: middle;\n",
       "    }\n",
       "\n",
       "    .dataframe tbody tr th {\n",
       "        vertical-align: top;\n",
       "    }\n",
       "\n",
       "    .dataframe thead th {\n",
       "        text-align: right;\n",
       "    }\n",
       "</style>\n",
       "<table border=\"1\" class=\"dataframe\">\n",
       "  <thead>\n",
       "    <tr style=\"text-align: right;\">\n",
       "      <th></th>\n",
       "      <th>num_gt</th>\n",
       "      <th>num_pd</th>\n",
       "      <th>tp</th>\n",
       "      <th>fp</th>\n",
       "      <th>fn</th>\n",
       "      <th>precision</th>\n",
       "      <th>recall</th>\n",
       "      <th>fmeasure</th>\n",
       "      <th>AP</th>\n",
       "      <th>label</th>\n",
       "    </tr>\n",
       "  </thead>\n",
       "  <tbody>\n",
       "    <tr>\n",
       "      <th>0</th>\n",
       "      <td>14</td>\n",
       "      <td>5</td>\n",
       "      <td>5</td>\n",
       "      <td>0</td>\n",
       "      <td>9</td>\n",
       "      <td>1.00</td>\n",
       "      <td>0.357143</td>\n",
       "      <td>0.526316</td>\n",
       "      <td>1.000000</td>\n",
       "      <td>ball_bearing</td>\n",
       "    </tr>\n",
       "    <tr>\n",
       "      <th>0</th>\n",
       "      <td>13</td>\n",
       "      <td>4</td>\n",
       "      <td>3</td>\n",
       "      <td>1</td>\n",
       "      <td>10</td>\n",
       "      <td>0.75</td>\n",
       "      <td>0.230769</td>\n",
       "      <td>0.352941</td>\n",
       "      <td>0.807692</td>\n",
       "      <td>ball_bearing_oil_stain</td>\n",
       "    </tr>\n",
       "  </tbody>\n",
       "</table>\n",
       "</div>"
      ],
      "text/plain": [
       "   num_gt  num_pd  tp  fp  fn  precision    recall  fmeasure        AP  \\\n",
       "0      14       5   5   0   9       1.00  0.357143  0.526316  1.000000   \n",
       "0      13       4   3   1  10       0.75  0.230769  0.352941  0.807692   \n",
       "\n",
       "                    label  \n",
       "0            ball_bearing  \n",
       "0  ball_bearing_oil_stain  "
      ]
     },
     "execution_count": 40,
     "metadata": {},
     "output_type": "execute_result"
    }
   ],
   "source": [
    "label2summary_df"
   ]
  },
  {
   "cell_type": "markdown",
   "id": "b5923b38",
   "metadata": {},
   "source": [
    " ## Scatter plot with pandas\n",
    " \n",
    " - [pandas.DataFrame.plot.scatter](https://pandas.pydata.org/pandas-docs/version/0.25.0/reference/api/pandas.DataFrame.plot.scatter.html)"
   ]
  },
  {
   "cell_type": "code",
   "execution_count": 69,
   "id": "93f7e01b",
   "metadata": {},
   "outputs": [
    {
     "data": {
      "image/png": "[encoded data removed]",
      "text/plain": [
       "<Figure size 640x480 with 2 Axes>"
      ]
     },
     "metadata": {},
     "output_type": "display_data"
    }
   ],
   "source": [
    "ax = label2summary_df.plot.scatter(x='recall', y='precision', c=\"AP\")\n",
    "\n",
    "# Set range of axes from 0.0 to 1.0\n",
    "ax.set_xlim(0,1)\n",
    "ax.set_ylim(0,1)\n",
    "\n",
    "# Add data labels\n",
    "for i, label in enumerate(label2summary_df.label):\n",
    "    ax.annotate(label, (label2summary_df.recall.iat[i]+0.05, label2summary_df.precision.iat[i]))\n"
   ]
  },
  {
   "cell_type": "markdown",
   "id": "575b4866",
   "metadata": {},
   "source": [
    "## Scatter plot with matplotlib\n",
    "- [matplotlib.pyplot.scatter](https://matplotlib.org/stable/api/_as_gen/matplotlib.pyplot.scatter.html)"
   ]
  },
  {
   "cell_type": "code",
   "execution_count": 84,
   "id": "3bb0bd57",
   "metadata": {},
   "outputs": [
    {
     "data": {
      "text/plain": [
       "(0.0, 1.0)"
      ]
     },
     "execution_count": 84,
     "metadata": {},
     "output_type": "execute_result"
    },
    {
     "data": {
      "image/png": "[encoded data removed]",
      "text/plain": [
       "<Figure size 640x480 with 1 Axes>"
      ]
     },
     "metadata": {},
     "output_type": "display_data"
    }
   ],
   "source": [
    "import matplotlib.pyplot \n",
    "\n",
    "matplotlib.pyplot.scatter(label2summary_df.recall, label2summary_df.precision)\n",
    "plt.xlim([0.0, 1.0])\n",
    "plt.ylim([0.0, 1.0])\n"
   ]
  },
  {
   "cell_type": "code",
   "execution_count": 88,
   "id": "55ce7342",
   "metadata": {},
   "outputs": [
    {
     "data": {
      "text/plain": [
       "(0.0, 1.0)"
      ]
     },
     "execution_count": 88,
     "metadata": {},
     "output_type": "execute_result"
    },
    {
     "data": {
      "image/png": "[encoded data removed]",
      "text/plain": [
       "<Figure size 640x480 with 1 Axes>"
      ]
     },
     "metadata": {},
     "output_type": "display_data"
    }
   ],
   "source": [
    "fig, ax = matplotlib.pyplot .subplots()\n",
    "ax.scatter(label2summary_df.recall, label2summary_df.precision)\n",
    "ax.set_xlim([0.0, 1.0])\n",
    "ax.set_ylim([0.0, 1.0])"
   ]
  },
  {
   "cell_type": "code",
   "execution_count": null,
   "id": "92803036",
   "metadata": {},
   "outputs": [],
   "source": []
  }
 ],
 "metadata": {
  "kernelspec": {
   "display_name": "Python 3 (ipykernel)",
   "language": "python",
   "name": "python3"
  },
  "language_info": {
   "codemirror_mode": {
    "name": "ipython",
    "version": 3
   },
   "file_extension": ".py",
   "mimetype": "text/x-python",
   "name": "python",
   "nbconvert_exporter": "python",
   "pygments_lexer": "ipython3",
   "version": "3.11.0"
  }
 },
 "nbformat": 4,
 "nbformat_minor": 5
}
